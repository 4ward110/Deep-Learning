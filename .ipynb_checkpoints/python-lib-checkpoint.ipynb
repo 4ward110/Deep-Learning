{
 "cells": [
  {
   "cell_type": "code",
   "execution_count": 18,
   "metadata": {},
   "outputs": [
    {
     "data": {
      "text/plain": [
       "array([[ 1,  2,  3],\n",
       "       [ 1, 42,  2],\n",
       "       [ 7,  2,  1]])"
      ]
     },
     "execution_count": 18,
     "metadata": {},
     "output_type": "execute_result"
    }
   ],
   "source": [
    "#numpy\n",
    "#Array trong numpy gom cac phan tu co cung kieu gia tri, chi so khong am bat dau tu 0, so chieu goi la rank cua mang Numpy va shape cuar mang la mot tuple cac so nguyen dua ra kich thuoc cua mang theo moi chieu\n",
    "\n",
    "import numpy as np\n",
    "\n",
    "a = np.array([[1, 2, 3],[1,42,2],[7,2,1]]) # Tạo array 1 chiều\n",
    "# for index, element in enumerate(a):\n",
    "#     print('%d - %d' % (index + 1 ,element))\n",
    "a"
   ]
  },
  {
   "cell_type": "code",
   "execution_count": 16,
   "metadata": {},
   "outputs": [
    {
     "name": "stdout",
     "output_type": "stream",
     "text": [
      "<class 'numpy.ndarray'>\n",
      "(2, 3)\n",
      "1\n",
      "42\n"
     ]
    }
   ],
   "source": [
    "print(type(a))\n",
    "\n",
    "# shape của mảng là một tuple các số nguyên đưa ra kích thước của mảng theo mỗi chiều.\n",
    "print(a.shape) # in ra so hang va cot 1 metrix (sohang, so cot)\n",
    "print(a[0,0]) # truy xuat phan tu a[hang,cot]\n",
    "print(a[1,1])"
   ]
  },
  {
   "cell_type": "code",
   "execution_count": 20,
   "metadata": {},
   "outputs": [
    {
     "name": "stdout",
     "output_type": "stream",
     "text": [
      "[[0. 0.]\n",
      " [0. 0.]]\n"
     ]
    }
   ],
   "source": [
    "#Tao array voi gia tri mac dinh\n",
    "c = np.zeros((2,2)) #tao ma tran 2x2 voi tat ca phan tu bang 0\n",
    "print(c)"
   ]
  },
  {
   "cell_type": "code",
   "execution_count": 21,
   "metadata": {},
   "outputs": [
    {
     "name": "stdout",
     "output_type": "stream",
     "text": [
      "[[1. 1.]\n",
      " [1. 1.]]\n"
     ]
    }
   ],
   "source": [
    "#Tao array voi gia tri cac phan tu bang1\n",
    "b = np.ones((2,2))\n",
    "print(b)"
   ]
  },
  {
   "cell_type": "code",
   "execution_count": 27,
   "metadata": {},
   "outputs": [
    {
     "name": "stdout",
     "output_type": "stream",
     "text": [
      "[[9 9]\n",
      " [9 9]\n",
      " [9 9]\n",
      " [9 9]]\n"
     ]
    }
   ],
   "source": [
    "# tao array voi tat ca gia tri cho truoc\n",
    "d = np.full((4,2), 9)\n",
    "print(d)"
   ]
  },
  {
   "cell_type": "code",
   "execution_count": 29,
   "metadata": {},
   "outputs": [
    {
     "name": "stdout",
     "output_type": "stream",
     "text": [
      "[[1. 0. 0.]\n",
      " [0. 1. 0.]\n",
      " [0. 0. 1.]]\n"
     ]
    }
   ],
   "source": [
    "# tao ma tran don vi voi kich thuoc cho truoc\n",
    "matrix = np.eye(3)\n",
    "print(matrix)"
   ]
  },
  {
   "cell_type": "code",
   "execution_count": 32,
   "metadata": {},
   "outputs": [
    {
     "name": "stdout",
     "output_type": "stream",
     "text": [
      "[[0.36707943 0.26274242 0.54970797]\n",
      " [0.82797286 0.49166089 0.46358178]]\n"
     ]
    }
   ],
   "source": [
    "# tao ma tran voi cac phan tu ran dom\n",
    "matrix2 = np.random.random((2,3))\n",
    "print(matrix2)"
   ]
  },
  {
   "cell_type": "code",
   "execution_count": 38,
   "metadata": {},
   "outputs": [
    {
     "name": "stdout",
     "output_type": "stream",
     "text": [
      "[[1 2 3]\n",
      " [2 3 4]\n",
      " [5 6 7]]\n"
     ]
    }
   ],
   "source": [
    "# Array indexing => giong nhu list => numpy array co the slice => can chi ro chieu khi slice\n",
    "a = np.array([[1,2,3],[2,3,4],[5,6,7],])\n",
    "print(a)"
   ]
  },
  {
   "cell_type": "code",
   "execution_count": 44,
   "metadata": {},
   "outputs": [
    {
     "name": "stdout",
     "output_type": "stream",
     "text": [
      "[[2 3]\n",
      " [3 4]\n",
      " [6 7]]\n"
     ]
    }
   ],
   "source": [
    "#slice 2 hang dau tien va 2 cot dau tien\n",
    "b = a[:,1:3]\n",
    "print(b)"
   ]
  },
  {
   "cell_type": "code",
   "execution_count": 52,
   "metadata": {},
   "outputs": [
    {
     "name": "stdout",
     "output_type": "stream",
     "text": [
      "[[-4. -4.]\n",
      " [-4. -4.]]\n"
     ]
    }
   ],
   "source": [
    "# Tinh toan voi ma tran trong numpy\n",
    "\n",
    "x = np.array([[1,2],[3,4]], dtype=np.float64)\n",
    "y = np.array([[5,6],[7,8]], dtype=np.float64)\n",
    "print(x - y)"
   ]
  },
  {
   "cell_type": "code",
   "execution_count": 53,
   "metadata": {},
   "outputs": [
    {
     "name": "stdout",
     "output_type": "stream",
     "text": [
      "[[-4. -4.]\n",
      " [-4. -4.]]\n"
     ]
    }
   ],
   "source": [
    "print(np.subtract(x,y))"
   ]
  },
  {
   "cell_type": "code",
   "execution_count": 56,
   "metadata": {},
   "outputs": [
    {
     "name": "stdout",
     "output_type": "stream",
     "text": [
      "[[ 5. 12.]\n",
      " [21. 32.]]\n",
      "[[0.2        0.33333333]\n",
      " [0.42857143 0.5       ]]\n"
     ]
    }
   ],
   "source": [
    "print(np.multiply(x, y)) ##nhan element-wise khong phai nhan ma tran thong thuong\n",
    "\n",
    "# chia elemet -wise\n",
    "print(np.divide(x, y))"
   ]
  },
  {
   "cell_type": "code",
   "execution_count": 55,
   "metadata": {},
   "outputs": [
    {
     "name": "stdout",
     "output_type": "stream",
     "text": [
      "[[19. 22.]\n",
      " [43. 50.]]\n"
     ]
    }
   ],
   "source": [
    "#nhan 2 ma tran\n",
    "print(np.dot(x,y))"
   ]
  },
  {
   "cell_type": "code",
   "execution_count": null,
   "metadata": {},
   "outputs": [],
   "source": []
  }
 ],
 "metadata": {
  "kernelspec": {
   "display_name": "Python 3",
   "language": "python",
   "name": "python3"
  },
  "language_info": {
   "codemirror_mode": {
    "name": "ipython",
    "version": 3
   },
   "file_extension": ".py",
   "mimetype": "text/x-python",
   "name": "python",
   "nbconvert_exporter": "python",
   "pygments_lexer": "ipython3",
   "version": "3.8.5"
  }
 },
 "nbformat": 4,
 "nbformat_minor": 4
}
